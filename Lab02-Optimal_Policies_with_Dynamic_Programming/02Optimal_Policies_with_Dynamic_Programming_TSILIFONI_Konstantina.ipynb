{
  "cells": [
    {
      "cell_type": "markdown",
      "metadata": {
        "deletable": false,
        "editable": false,
        "nbgrader": {
          "checksum": "3996977e7d68ec12f2c9ffcfe5ce214b",
          "grade": false,
          "grade_id": "cell-649fd0b1aa7ccb0f",
          "locked": true,
          "schema_version": 1,
          "solution": false
        },
        "id": "oSe9VSPvWTtN"
      },
      "source": [
        "# Assignment 2: Optimal Policies with Dynamic Programming\n",
        "\n",
        "Welcome to Assignment 2. This notebook will help you understand:\n",
        "- Policy Evaluation and Policy Improvement.\n",
        "- Value and Policy Iteration.\n",
        "- Bellman Equations."
      ]
    },
    {
      "cell_type": "markdown",
      "metadata": {
        "deletable": false,
        "editable": false,
        "nbgrader": {
          "checksum": "20729884a9ceb3804a03589ce5938a2d",
          "grade": false,
          "grade_id": "cell-9aafac39a58eeca4",
          "locked": true,
          "schema_version": 1,
          "solution": false
        },
        "id": "rDHSY3MzWTtP"
      },
      "source": [
        "## Gridworld City\n",
        "\n",
        "Gridworld City, a thriving metropolis with a booming technology industry, has recently experienced an influx of grid-loving software engineers. Unfortunately, the city's street parking system, which charges a fixed rate, is struggling to keep up with the increased demand. To address this, the city council has decided to modify the pricing scheme to better promote social welfare. In general, the city considers social welfare higher when more parking is being used, the exception being that the city prefers that at least one spot is left unoccupied (so that it is available in case someone really needs it). The city council has created a Markov decision process (MDP) to model the demand for parking with a reward function that reflects its preferences. Now the city has hired you &mdash; an expert in dynamic programming &mdash; to help determine an optimal policy."
      ]
    },
    {
      "cell_type": "markdown",
      "metadata": {
        "deletable": false,
        "editable": false,
        "nbgrader": {
          "checksum": "77a7b97ee700b6ce77ed26bd22749e80",
          "grade": false,
          "grade_id": "cell-28ccff8d1e663850",
          "locked": true,
          "schema_version": 1,
          "solution": false
        },
        "id": "hjBYXd2wWTtQ"
      },
      "source": [
        "## Preliminaries\n",
        "You'll need two imports to complete this assigment:\n",
        "- numpy: The fundamental package for scientific computing with Python.\n",
        "- tools: A module containing an environment and a plotting function.\n",
        "\n"
      ]
    },
    {
      "cell_type": "code",
      "source": [
        "!pip install gymnasium"
      ],
      "metadata": {
        "id": "gBz2CJJ10WGS",
        "colab": {
          "base_uri": "https://localhost:8080/"
        },
        "outputId": "84e18ef1-690e-42e2-93e4-da6cdf7683d0"
      },
      "execution_count": null,
      "outputs": [
        {
          "output_type": "stream",
          "name": "stdout",
          "text": [
            "Looking in indexes: https://pypi.org/simple, https://us-python.pkg.dev/colab-wheels/public/simple/\n",
            "Collecting gymnasium\n",
            "  Downloading gymnasium-0.27.1-py3-none-any.whl (883 kB)\n",
            "\u001b[2K     \u001b[90m━━━━━━━━━━━━━━━━━━━━━━━━━━━━━━━━━━━━━━\u001b[0m \u001b[32m883.7/883.7 KB\u001b[0m \u001b[31m11.8 MB/s\u001b[0m eta \u001b[36m0:00:00\u001b[0m\n",
            "\u001b[?25hRequirement already satisfied: cloudpickle>=1.2.0 in /usr/local/lib/python3.8/dist-packages (from gymnasium) (2.2.1)\n",
            "Collecting gymnasium-notices>=0.0.1\n",
            "  Downloading gymnasium_notices-0.0.1-py3-none-any.whl (2.8 kB)\n",
            "Collecting jax-jumpy>=0.2.0\n",
            "  Downloading jax_jumpy-0.2.0-py3-none-any.whl (11 kB)\n",
            "Requirement already satisfied: importlib-metadata>=4.8.0 in /usr/local/lib/python3.8/dist-packages (from gymnasium) (6.0.0)\n",
            "Requirement already satisfied: numpy>=1.21.0 in /usr/local/lib/python3.8/dist-packages (from gymnasium) (1.22.4)\n",
            "Requirement already satisfied: typing-extensions>=4.3.0 in /usr/local/lib/python3.8/dist-packages (from gymnasium) (4.5.0)\n",
            "Requirement already satisfied: zipp>=0.5 in /usr/local/lib/python3.8/dist-packages (from importlib-metadata>=4.8.0->gymnasium) (3.15.0)\n",
            "Installing collected packages: gymnasium-notices, jax-jumpy, gymnasium\n",
            "Successfully installed gymnasium-0.27.1 gymnasium-notices-0.0.1 jax-jumpy-0.2.0\n"
          ]
        }
      ]
    },
    {
      "cell_type": "code",
      "execution_count": null,
      "metadata": {
        "deletable": false,
        "editable": false,
        "nbgrader": {
          "checksum": "f70cbdcd1e273dfc166b366836a4136f",
          "grade": false,
          "grade_id": "cell-c11ff54faaf3fd89",
          "locked": true,
          "schema_version": 1,
          "solution": false
        },
        "id": "VBQFY40nWTtQ"
      },
      "outputs": [],
      "source": [
        "%%capture\n",
        "%matplotlib inline\n",
        "import numpy as np\n",
        "import pickle\n",
        "import tools"
      ]
    },
    {
      "cell_type": "markdown",
      "metadata": {
        "deletable": false,
        "editable": false,
        "nbgrader": {
          "checksum": "596fffc2a1391897952fcabe2a8db930",
          "grade": false,
          "grade_id": "cell-4c7c5c4373be59ff",
          "locked": true,
          "schema_version": 1,
          "solution": false
        },
        "id": "C5NfkBAFWTtR"
      },
      "source": [
        "In the city council's parking MDP, states are nonnegative integers indicating how many parking spaces are occupied, actions are nonnegative integers designating the price of street parking, the reward is a real value describing the city's preference for the situation, and time is discretized by hour. As might be expected, charging a high price is likely to decrease occupancy over the hour, while charging a low price is likely to increase it.\n",
        "\n",
        "For now, let's consider an environment with three parking spaces and three price points. Note that an environment with three parking spaces actually has four states &mdash; zero, one, two, or three spaces could be occupied."
      ]
    },
    {
      "cell_type": "code",
      "execution_count": null,
      "metadata": {
        "deletable": false,
        "editable": false,
        "nbgrader": {
          "checksum": "c2e5b06e5166bc03c5075db981280485",
          "grade": false,
          "grade_id": "cell-d25d06a8bafc4c26",
          "locked": true,
          "schema_version": 1,
          "solution": false
        },
        "id": "saY-gQm1WTtS"
      },
      "outputs": [],
      "source": [
        "num_spaces = 3\n",
        "num_prices = 3\n",
        "env = tools.ParkingWorld(num_spaces, num_prices)\n",
        "V = np.zeros(num_spaces + 1)\n",
        "pi = np.ones((num_spaces + 1, num_prices)) / num_prices"
      ]
    },
    {
      "cell_type": "markdown",
      "metadata": {
        "deletable": false,
        "editable": false,
        "nbgrader": {
          "checksum": "0813b0f481e1f2f90e12f38456781410",
          "grade": false,
          "grade_id": "cell-57212e031233c500",
          "locked": true,
          "schema_version": 1,
          "solution": false
        },
        "id": "z0fmqMi3WTtS"
      },
      "source": [
        "The value function is a one-dimensional array where the $i$-th entry gives the value of $i$ spaces being occupied."
      ]
    },
    {
      "cell_type": "code",
      "execution_count": null,
      "metadata": {
        "deletable": false,
        "editable": false,
        "nbgrader": {
          "checksum": "6e59c4a32939d9211dfc0f8fdd939780",
          "grade": false,
          "grade_id": "cell-c5f693a5ff49a888",
          "locked": true,
          "schema_version": 1,
          "solution": false
        },
        "colab": {
          "base_uri": "https://localhost:8080/"
        },
        "id": "0kTbYbJuWTtS",
        "outputId": "3e2eda96-48f2-4be7-8585-e47ab598395b"
      },
      "outputs": [
        {
          "output_type": "execute_result",
          "data": {
            "text/plain": [
              "array([0., 0., 0., 0.])"
            ]
          },
          "metadata": {},
          "execution_count": 4
        }
      ],
      "source": [
        "V"
      ]
    },
    {
      "cell_type": "code",
      "execution_count": null,
      "metadata": {
        "deletable": false,
        "editable": false,
        "nbgrader": {
          "checksum": "559643d84ae07b1b499ec4c6b9af40bc",
          "grade": false,
          "grade_id": "cell-ac2f8ec29c0c9ab6",
          "locked": true,
          "schema_version": 1,
          "solution": false
        },
        "colab": {
          "base_uri": "https://localhost:8080/"
        },
        "id": "AStnri5OWTtT",
        "outputId": "90686213-37c4-480a-91b4-251d5bdec439"
      },
      "outputs": [
        {
          "output_type": "execute_result",
          "data": {
            "text/plain": [
              "0.0"
            ]
          },
          "metadata": {},
          "execution_count": 5
        }
      ],
      "source": [
        "state = 0\n",
        "V[state]"
      ]
    },
    {
      "cell_type": "code",
      "execution_count": null,
      "metadata": {
        "deletable": false,
        "editable": false,
        "nbgrader": {
          "checksum": "29380e07e1a4da60134db6949d7eb772",
          "grade": false,
          "grade_id": "cell-c829e4ece8bf9412",
          "locked": true,
          "schema_version": 1,
          "solution": false
        },
        "colab": {
          "base_uri": "https://localhost:8080/"
        },
        "id": "QepCOSYgWTtU",
        "outputId": "3bb2c42c-2150-4e1e-b4f2-48ea698b7e84"
      },
      "outputs": [
        {
          "output_type": "execute_result",
          "data": {
            "text/plain": [
              "array([10.,  0.,  0.,  0.])"
            ]
          },
          "metadata": {},
          "execution_count": 6
        }
      ],
      "source": [
        "state = 0\n",
        "value = 10\n",
        "V[state] = value\n",
        "V"
      ]
    },
    {
      "cell_type": "code",
      "execution_count": null,
      "metadata": {
        "deletable": false,
        "editable": false,
        "nbgrader": {
          "checksum": "a296188c40952607943d9eddbd021f81",
          "grade": false,
          "grade_id": "cell-cb5bc5279787faad",
          "locked": true,
          "schema_version": 1,
          "solution": false
        },
        "colab": {
          "base_uri": "https://localhost:8080/"
        },
        "id": "ZwlsqY_rWTtU",
        "outputId": "c4664dcb-21de-4c43-a93b-7fc69d2ac0ba"
      },
      "outputs": [
        {
          "output_type": "stream",
          "name": "stdout",
          "text": [
            "State 0 has value 10.0\n",
            "State 1 has value 0.0\n",
            "State 2 has value 0.0\n",
            "State 3 has value 0.0\n"
          ]
        }
      ],
      "source": [
        "for s, v in enumerate(V):\n",
        "    print(f'State {s} has value {v}')"
      ]
    },
    {
      "cell_type": "markdown",
      "metadata": {
        "deletable": false,
        "editable": false,
        "nbgrader": {
          "checksum": "cb305ee8a8d6e293a48b96ace69bfb53",
          "grade": false,
          "grade_id": "cell-57154206afc97770",
          "locked": true,
          "schema_version": 1,
          "solution": false
        },
        "id": "Ir5t6wWyWTtU"
      },
      "source": [
        "The policy is a two-dimensional array where the $(i, j)$-th entry gives the probability of taking action $j$ in state $i$."
      ]
    },
    {
      "cell_type": "code",
      "execution_count": null,
      "metadata": {
        "deletable": false,
        "editable": false,
        "nbgrader": {
          "checksum": "d732d93b6545408fa819526c2e52a0cf",
          "grade": false,
          "grade_id": "cell-85c017bb1e6fe4df",
          "locked": true,
          "schema_version": 1,
          "solution": false
        },
        "colab": {
          "base_uri": "https://localhost:8080/"
        },
        "id": "pcwx8-v5WTtV",
        "outputId": "55fe1023-422a-4223-ce4f-a1c1d73118b8"
      },
      "outputs": [
        {
          "output_type": "execute_result",
          "data": {
            "text/plain": [
              "array([[0.33333333, 0.33333333, 0.33333333],\n",
              "       [0.33333333, 0.33333333, 0.33333333],\n",
              "       [0.33333333, 0.33333333, 0.33333333],\n",
              "       [0.33333333, 0.33333333, 0.33333333]])"
            ]
          },
          "metadata": {},
          "execution_count": 8
        }
      ],
      "source": [
        "pi"
      ]
    },
    {
      "cell_type": "code",
      "execution_count": null,
      "metadata": {
        "deletable": false,
        "editable": false,
        "nbgrader": {
          "checksum": "3b5bc8eebf9c09786a2a966cadcf0400",
          "grade": false,
          "grade_id": "cell-92a61a07d9f0bf04",
          "locked": true,
          "schema_version": 1,
          "solution": false
        },
        "colab": {
          "base_uri": "https://localhost:8080/"
        },
        "id": "aOPtYJfvWTtV",
        "outputId": "469f29d4-b3c3-44d6-f487-ce9f0e20144e"
      },
      "outputs": [
        {
          "output_type": "execute_result",
          "data": {
            "text/plain": [
              "array([0.33333333, 0.33333333, 0.33333333])"
            ]
          },
          "metadata": {},
          "execution_count": 9
        }
      ],
      "source": [
        "state = 0\n",
        "pi[state]"
      ]
    },
    {
      "cell_type": "code",
      "execution_count": null,
      "metadata": {
        "deletable": false,
        "editable": false,
        "nbgrader": {
          "checksum": "4780c63332dfc7f65a998403c2a4bf21",
          "grade": false,
          "grade_id": "cell-0e224545b27d80c7",
          "locked": true,
          "schema_version": 1,
          "solution": false
        },
        "colab": {
          "base_uri": "https://localhost:8080/"
        },
        "id": "1o-GcuVoWTtV",
        "outputId": "d237cb44-cc3b-4466-c425-e3d1c08678eb"
      },
      "outputs": [
        {
          "output_type": "execute_result",
          "data": {
            "text/plain": [
              "0.3333333333333333"
            ]
          },
          "metadata": {},
          "execution_count": 10
        }
      ],
      "source": [
        "state = 0\n",
        "action = 1\n",
        "pi[state, action]"
      ]
    },
    {
      "cell_type": "code",
      "execution_count": null,
      "metadata": {
        "deletable": false,
        "editable": false,
        "nbgrader": {
          "checksum": "ba7a14554c52279e4cfe7818982b914e",
          "grade": false,
          "grade_id": "cell-1f5e3fcf8d0384b9",
          "locked": true,
          "schema_version": 1,
          "solution": false
        },
        "colab": {
          "base_uri": "https://localhost:8080/"
        },
        "id": "3xZd9MMzWTtV",
        "outputId": "efe48c8b-46bd-434a-c34d-842b20181950"
      },
      "outputs": [
        {
          "output_type": "execute_result",
          "data": {
            "text/plain": [
              "array([[0.75      , 0.21      , 0.04      ],\n",
              "       [0.33333333, 0.33333333, 0.33333333],\n",
              "       [0.33333333, 0.33333333, 0.33333333],\n",
              "       [0.33333333, 0.33333333, 0.33333333]])"
            ]
          },
          "metadata": {},
          "execution_count": 11
        }
      ],
      "source": [
        "pi[state] = np.array([0.75, 0.21, 0.04])\n",
        "pi"
      ]
    },
    {
      "cell_type": "code",
      "execution_count": null,
      "metadata": {
        "deletable": false,
        "editable": false,
        "nbgrader": {
          "checksum": "1cf19333d9690caba29729b2d8fed55c",
          "grade": false,
          "grade_id": "cell-d7d514ba81bc686c",
          "locked": true,
          "schema_version": 1,
          "solution": false
        },
        "colab": {
          "base_uri": "https://localhost:8080/"
        },
        "id": "BMhkCg2pWTtW",
        "outputId": "9cf7ad27-79a0-41c6-a39c-f13e8e4d6ee7"
      },
      "outputs": [
        {
          "output_type": "stream",
          "name": "stdout",
          "text": [
            "pi(A=0|S=0) = 0.75    pi(A=1|S=0) = 0.21    pi(A=2|S=0) = 0.04    \n",
            "pi(A=0|S=1) = 0.33    pi(A=1|S=1) = 0.33    pi(A=2|S=1) = 0.33    \n",
            "pi(A=0|S=2) = 0.33    pi(A=1|S=2) = 0.33    pi(A=2|S=2) = 0.33    \n",
            "pi(A=0|S=3) = 0.33    pi(A=1|S=3) = 0.33    pi(A=2|S=3) = 0.33    \n"
          ]
        }
      ],
      "source": [
        "for s, pi_s in enumerate(pi):\n",
        "    print(f''.join(f'pi(A={a}|S={s}) = {p.round(2)}' + 4 * ' ' for a, p in enumerate(pi_s)))"
      ]
    },
    {
      "cell_type": "code",
      "execution_count": null,
      "metadata": {
        "deletable": false,
        "editable": false,
        "nbgrader": {
          "checksum": "cdff0c353f33f3cfd7413c141fa4d317",
          "grade": false,
          "grade_id": "cell-46b46b0dc80c68c7",
          "locked": true,
          "schema_version": 1,
          "solution": false
        },
        "colab": {
          "base_uri": "https://localhost:8080/",
          "height": 381
        },
        "id": "2PGIjgNNWTtW",
        "outputId": "36439c79-2d71-48d1-826b-cecec19486aa"
      },
      "outputs": [
        {
          "output_type": "display_data",
          "data": {
            "text/plain": [
              "<Figure size 900x360 with 3 Axes>"
            ],
            "image/png": "[encoded data removed]"
          },
          "metadata": {}
        }
      ],
      "source": [
        "tools.plot(V, pi)"
      ]
    },
    {
      "cell_type": "markdown",
      "metadata": {
        "deletable": false,
        "editable": false,
        "nbgrader": {
          "checksum": "4f450ea0212f959d952e9b0272e57cf3",
          "grade": false,
          "grade_id": "cell-ce3ac9318671059d",
          "locked": true,
          "schema_version": 1,
          "solution": false
        },
        "id": "aomSEG_QWTtX"
      },
      "source": [
        "We can visualize a value function and policy with the `plot` function in the `tools` module. On the left, the value function is displayed as a barplot. State zero has an expected return of ten, while the other states have an expected return of zero. On the right, the policy is displayed on a two-dimensional grid. Each vertical strip gives the policy at the labeled state. In state zero, action zero is the darkest because the agent's policy makes this choice with the highest probability. In the other states the agent has the equiprobable policy, so the vertical strips are colored uniformly."
      ]
    },
    {
      "cell_type": "markdown",
      "metadata": {
        "deletable": false,
        "editable": false,
        "nbgrader": {
          "checksum": "049e3d7344e203034323e1f86a503ee4",
          "grade": false,
          "grade_id": "cell-3975c91dbe24e9e8",
          "locked": true,
          "schema_version": 1,
          "solution": false
        },
        "id": "AJ_Exd9qWTtX"
      },
      "source": [
        "You can access the state space and the action set as attributes of the environment."
      ]
    },
    {
      "cell_type": "code",
      "execution_count": null,
      "metadata": {
        "deletable": false,
        "editable": false,
        "nbgrader": {
          "checksum": "4fafc756424773278069199ff876300e",
          "grade": false,
          "grade_id": "cell-94d868709c1a9eba",
          "locked": true,
          "schema_version": 1,
          "solution": false
        },
        "colab": {
          "base_uri": "https://localhost:8080/"
        },
        "id": "MMWrSiMIWTtX",
        "outputId": "287abb33-a8c8-46df-8982-191b4106ac85"
      },
      "outputs": [
        {
          "output_type": "execute_result",
          "data": {
            "text/plain": [
              "[0, 1, 2, 3]"
            ]
          },
          "metadata": {},
          "execution_count": 14
        }
      ],
      "source": [
        "env.S"
      ]
    },
    {
      "cell_type": "code",
      "execution_count": null,
      "metadata": {
        "deletable": false,
        "editable": false,
        "nbgrader": {
          "checksum": "dc72712f4890361c35c0b19f0df5befd",
          "grade": false,
          "grade_id": "cell-6f16d9e8ebf01b60",
          "locked": true,
          "schema_version": 1,
          "solution": false
        },
        "colab": {
          "base_uri": "https://localhost:8080/"
        },
        "id": "ngmhaF7EWTtX",
        "outputId": "810880ab-8ec0-46ba-8bd5-4c3870fc4364"
      },
      "outputs": [
        {
          "output_type": "execute_result",
          "data": {
            "text/plain": [
              "[0, 1, 2]"
            ]
          },
          "metadata": {},
          "execution_count": 15
        }
      ],
      "source": [
        "env.A"
      ]
    },
    {
      "cell_type": "markdown",
      "metadata": {
        "deletable": false,
        "editable": false,
        "nbgrader": {
          "checksum": "12e6b88d7cf8ec6d20c7e14e3d43b5e2",
          "grade": false,
          "grade_id": "cell-927e52efe516a816",
          "locked": true,
          "schema_version": 1,
          "solution": false
        },
        "id": "2OhSSnaLWTtY"
      },
      "source": [
        "You will need to use the environment's `transitions` method to complete this assignment. The method takes a state and an action and returns a 2-dimensional array, where the entry at $(i, 0)$ is the reward for transitioning to state $i$ from the current state and the entry at $(i, 1)$ is the conditional probability of transitioning to state $i$ given the current state and action."
      ]
    },
    {
      "cell_type": "code",
      "execution_count": null,
      "metadata": {
        "deletable": false,
        "editable": false,
        "nbgrader": {
          "checksum": "4d32e329bafe53f2061e6b577751f291",
          "grade": false,
          "grade_id": "cell-4185982b1a21cd04",
          "locked": true,
          "schema_version": 1,
          "solution": false
        },
        "colab": {
          "base_uri": "https://localhost:8080/"
        },
        "id": "o2PD5mYRWTtY",
        "outputId": "5de1eb14-24a9-43dd-f442-64935200f373"
      },
      "outputs": [
        {
          "output_type": "execute_result",
          "data": {
            "text/plain": [
              "array([[1.        , 0.12390437],\n",
              "       [2.        , 0.15133714],\n",
              "       [3.        , 0.1848436 ],\n",
              "       [2.        , 0.53991488]])"
            ]
          },
          "metadata": {},
          "execution_count": 16
        }
      ],
      "source": [
        "state = 3\n",
        "action = 1\n",
        "transitions = env.transitions(state, action)\n",
        "transitions"
      ]
    },
    {
      "cell_type": "code",
      "execution_count": null,
      "metadata": {
        "deletable": false,
        "editable": false,
        "nbgrader": {
          "checksum": "768d9dfafd5bb70c8d3641fb6fb17ce3",
          "grade": false,
          "grade_id": "cell-379fdb797cae3afb",
          "locked": true,
          "schema_version": 1,
          "solution": false
        },
        "colab": {
          "base_uri": "https://localhost:8080/"
        },
        "id": "xqh9_Hd_WTtY",
        "outputId": "4ee96f34-4576-43fe-ce72-01a1124ab433"
      },
      "outputs": [
        {
          "output_type": "stream",
          "name": "stdout",
          "text": [
            "p(S'=0, R=1.0 | S=3, A=1) = 0.12\n",
            "p(S'=1, R=2.0 | S=3, A=1) = 0.15\n",
            "p(S'=2, R=3.0 | S=3, A=1) = 0.18\n",
            "p(S'=3, R=2.0 | S=3, A=1) = 0.54\n"
          ]
        }
      ],
      "source": [
        "for s_, (r, p) in enumerate(transitions):\n",
        "    print(f'p(S\\'={s_}, R={r} | S={state}, A={action}) = {p.round(2)}')"
      ]
    },
    {
      "cell_type": "markdown",
      "metadata": {
        "deletable": false,
        "editable": false,
        "nbgrader": {
          "checksum": "0869f6736a9ab680b0c82dccf72ba11c",
          "grade": false,
          "grade_id": "cell-141d4e3806427283",
          "locked": true,
          "schema_version": 1,
          "solution": false
        },
        "id": "UbZpVyiSWTtY"
      },
      "source": [
        "## Section 1: Policy Evaluation\n",
        "\n",
        "You're now ready to begin the assignment! First, the city council would like you to evaluate the quality of the existing pricing scheme. Policy evaluation works by iteratively applying the Bellman equation for $v_{\\pi}$ to a working value function, as an update rule, as shown below.\n",
        "\n",
        "$$\\large v(s) \\leftarrow \\sum_a \\pi(a | s) \\sum_{s', r} p(s', r | s, a)[r + \\gamma v(s')]$$\n",
        "This update can either occur \"in-place\" (i.e. the update rule is sequentially applied to each state) or with \"two-arrays\" (i.e. the update rule is simultaneously applied to each state). Both versions converge to $v_{\\pi}$ but the in-place version usually converges faster. **In this assignment, we will be implementing all update rules in-place**, as is done in the pseudocode of chapter 4 of the textbook. \n",
        "\n",
        "We have written an outline of the policy evaluation algorithm described in chapter 4.1 of the textbook. It is left to you to fill in the `bellman_update` function to complete the algorithm."
      ]
    },
    {
      "cell_type": "code",
      "execution_count": null,
      "metadata": {
        "deletable": false,
        "editable": false,
        "nbgrader": {
          "checksum": "732aa9563f9fa2209380be4dcfc22c31",
          "grade": false,
          "grade_id": "cell-8d04cf6f6f397e17",
          "locked": true,
          "schema_version": 1,
          "solution": false
        },
        "id": "EBxJWe7EWTtZ"
      },
      "outputs": [],
      "source": [
        "def evaluate_policy(env, V, pi, gamma, theta):\n",
        "    while True:\n",
        "        delta = 0\n",
        "        for s in env.S:\n",
        "            v = V[s]\n",
        "            bellman_update(env, V, pi, s, gamma)\n",
        "            delta = max(delta, abs(v - V[s]))\n",
        "        if delta < theta:\n",
        "            break\n",
        "    return V"
      ]
    },
    {
      "cell_type": "code",
      "execution_count": null,
      "metadata": {
        "deletable": false,
        "nbgrader": {
          "checksum": "c8aad24b28e1eaf3fd87481be87f89e1",
          "grade": false,
          "grade_id": "cell-4113388a5f8401b6",
          "locked": false,
          "schema_version": 1,
          "solution": true
        },
        "id": "xFppfvG4WTtZ"
      },
      "outputs": [],
      "source": [
        "# [Graded]\n",
        "def bellman_update(env, V, pi, s, gamma):\n",
        "    \"\"\"\n",
        "    Mutate ``V`` according to the Bellman update equation.\n",
        "    \"\"\"\n",
        "    ### START CODE HERE ###\n",
        "    \n",
        "    # Get the actions to take from current state\n",
        "    actions = pi[s]\n",
        "\n",
        "    # Create a list for each possible action\n",
        "    G = [0] * len(actions)\n",
        "\n",
        "    # For each possible action, find the expected return\n",
        "    for action in env.A:\n",
        "        \n",
        "        # Get the possible transitions and rewards for the action\n",
        "        transitions = env.transitions(s, action)\n",
        "        \n",
        "        # Calculate the expected return for each possible next state\n",
        "        for s_, (r,p) in enumerate(transitions):\n",
        "            G[action] += p * (r + gamma * V[s_])\n",
        "        \n",
        "    # Update the value function of the current state\n",
        "    V[s] = np.sum(G * actions)\n",
        "\n",
        "    ### END CODE HERE ###"
      ]
    },
    {
      "cell_type": "markdown",
      "metadata": {
        "deletable": false,
        "editable": false,
        "nbgrader": {
          "checksum": "4d9639225bc3d57f1079ceab1d57d411",
          "grade": false,
          "grade_id": "cell-5c1f3ff4b0e1b0bf",
          "locked": true,
          "schema_version": 1,
          "solution": false
        },
        "id": "4d21RS8uWTtZ"
      },
      "source": [
        "The cell below uses the policy evaluation algorithm to evaluate the city's policy, which charges a constant price of one."
      ]
    },
    {
      "cell_type": "code",
      "execution_count": null,
      "metadata": {
        "deletable": false,
        "editable": false,
        "nbgrader": {
          "checksum": "81f87ef8f5b644c1ad42b971acf6c4df",
          "grade": false,
          "grade_id": "cell-4b69f06bc67962af",
          "locked": true,
          "schema_version": 1,
          "solution": false
        },
        "id": "FjSAW9aEWTtZ"
      },
      "outputs": [],
      "source": [
        "%reset_selective -f \"^num_spaces$|^num_prices$|^env$|^V$|^pi$|^gamma$|^theta$\"\n",
        "num_spaces = 10\n",
        "num_prices = 4\n",
        "env = tools.ParkingWorld(num_spaces, num_prices)\n",
        "V = np.zeros(num_spaces + 1)\n",
        "city_policy = np.zeros((num_spaces + 1, num_prices))\n",
        "city_policy[:, 1] = 1\n",
        "gamma = 0.9\n",
        "theta = 0.1\n",
        "V = evaluate_policy(env, V, city_policy, gamma, theta)"
      ]
    },
    {
      "cell_type": "markdown",
      "metadata": {
        "deletable": false,
        "editable": false,
        "nbgrader": {
          "checksum": "0f19b2dc70097c6425bbc3bd25a2a500",
          "grade": false,
          "grade_id": "cell-b612ffe570dd7e29",
          "locked": true,
          "schema_version": 1,
          "solution": false
        },
        "id": "36EP5T8yWTtZ"
      },
      "source": [
        "You can use the ``plot`` function to visualize the final value function and policy."
      ]
    },
    {
      "cell_type": "code",
      "execution_count": null,
      "metadata": {
        "deletable": false,
        "editable": false,
        "nbgrader": {
          "checksum": "1dd55a310f0d18634f95c4dd3dc19da3",
          "grade": false,
          "grade_id": "cell-fe5cf61a03a028fc",
          "locked": true,
          "schema_version": 1,
          "solution": false
        },
        "colab": {
          "base_uri": "https://localhost:8080/",
          "height": 381
        },
        "id": "0eIiYPn9WTtZ",
        "outputId": "830bf648-d7b4-4d37-813f-425a5e9f9d3b"
      },
      "outputs": [
        {
          "output_type": "display_data",
          "data": {
            "image/png": "[encoded data removed]",
            "text/plain": [
              "<Figure size 900x360 with 3 Axes>"
            ]
          },
          "metadata": {}
        }
      ],
      "source": [
        "tools.plot(V, city_policy)"
      ]
    },
    {
      "cell_type": "code",
      "execution_count": null,
      "metadata": {
        "colab": {
          "base_uri": "https://localhost:8080/"
        },
        "id": "miu0N6I3WTta",
        "outputId": "7405df62-0d9e-4173-9031-1bc8c3afc530"
      },
      "outputs": [
        {
          "output_type": "stream",
          "name": "stdout",
          "text": [
            "0: 80.041734\n",
            "1: 81.655323\n",
            "2: 83.373940\n",
            "3: 85.129756\n",
            "4: 86.871749\n",
            "5: 88.555891\n",
            "6: 90.140204\n",
            "7: 91.581806\n",
            "8: 92.819298\n",
            "9: 93.789159\n",
            "10: 87.777930\n"
          ]
        }
      ],
      "source": [
        "for s, v in enumerate(V):\n",
        "    print(\"{}: {:1f}\".format(s, v))"
      ]
    },
    {
      "cell_type": "markdown",
      "metadata": {
        "deletable": false,
        "editable": false,
        "nbgrader": {
          "checksum": "33d9d76d53c4cd379e8b7b0c6ecd5cc6",
          "grade": false,
          "grade_id": "cell-7dbb5974798259f7",
          "locked": true,
          "schema_version": 1,
          "solution": false
        },
        "id": "vGDxrLZdWTta"
      },
      "source": [
        "You can check the output (rounded to one decimal place) against the answer below:<br>\n",
        "State $\\quad\\quad$    Value<br>\n",
        "0 $\\quad\\quad\\quad\\;$        80.0<br>\n",
        "1 $\\quad\\quad\\quad\\;$        81.7<br>\n",
        "2 $\\quad\\quad\\quad\\;$        83.4<br>\n",
        "3 $\\quad\\quad\\quad\\;$        85.1<br>\n",
        "4 $\\quad\\quad\\quad\\;$        86.9<br>\n",
        "5 $\\quad\\quad\\quad\\;$        88.6<br>\n",
        "6 $\\quad\\quad\\quad\\;$        90.1<br>\n",
        "7 $\\quad\\quad\\quad\\;$        91.6<br>\n",
        "8 $\\quad\\quad\\quad\\;$        92.8<br>\n",
        "9 $\\quad\\quad\\quad\\;$        93.8<br>\n",
        "10 $\\quad\\quad\\;\\;\\,\\,$       87.8<br>\n",
        "\n",
        "Observe that the value function qualitatively resembles the city council's preferences &mdash; it monotonically increases as more parking is used, until there is no parking left, in which case the value is lower. Because of the relatively simple reward function (more reward is accrued when many but not all parking spots are taken and less reward is accrued when few or all parking spots are taken) and the highly stochastic dynamics function (each state has positive probability of being reached each time step) the value functions of most policies will qualitatively resemble this graph. However, depending on the intelligence of the policy, the scale of the graph will differ. In other words, better policies will increase the expected return at every state rather than changing the relative desirability of the states. Intuitively, the value of a less desirable state can be increased by making it less likely to remain in a less desirable state. Similarly, the value of a more desirable state can be increased by making it more likely to remain in a more desirable state. That is to say, good policies are policies that spend more time in desirable states and less time in undesirable states. As we will see in this assignment, such a steady state distribution is achieved by setting the price to be low in low occupancy states (so that the occupancy will increase) and setting the price high when occupancy is high (so that full occupancy will be avoided)."
      ]
    },
    {
      "cell_type": "markdown",
      "metadata": {
        "deletable": false,
        "editable": false,
        "nbgrader": {
          "checksum": "c954d5fee584058d6cff61e3274c2e8b",
          "grade": false,
          "grade_id": "cell-eb62290c37932db0",
          "locked": true,
          "schema_version": 1,
          "solution": false
        },
        "id": "qH141GeQWTta"
      },
      "source": [
        "The cell below will check that your code passes the test case above. (Your code passed if the cell runs without error.)"
      ]
    },
    {
      "cell_type": "code",
      "source": [
        "V_correct = [80.0,81.7,83.4,85.1,86.9,88.6,90.1,91.6,92.8,93.8,87.8]\n",
        "np.testing.assert_array_almost_equal(V, V_correct,1)\n",
        "print(\"Assertion correct. You can now move to the next section.\")"
      ],
      "metadata": {
        "colab": {
          "base_uri": "https://localhost:8080/"
        },
        "id": "E7ZYugaSNfIf",
        "outputId": "5f046b7f-4ff6-4c9c-e69c-ae8c3e485e8c"
      },
      "execution_count": null,
      "outputs": [
        {
          "output_type": "stream",
          "name": "stdout",
          "text": [
            "Assertion correct. You can now move to the next section.\n"
          ]
        }
      ]
    },
    {
      "cell_type": "markdown",
      "metadata": {
        "deletable": false,
        "editable": false,
        "nbgrader": {
          "checksum": "f0d6665789065c7bfa797664e0f43c8c",
          "grade": false,
          "grade_id": "cell-45d6a1c8f905e939",
          "locked": true,
          "schema_version": 1,
          "solution": false
        },
        "id": "cT5krX1KWTta"
      },
      "source": [
        "## Section 2: Policy Iteration\n",
        "Now the city council would like you to compute a more efficient policy using policy iteration. Policy iteration works by alternating between evaluating the existing policy and making the policy greedy with respect to the existing value function. We have written an outline of the policy iteration algorithm described in chapter 4.3 of the textbook. We will make use of the policy evaluation algorithm you completed in section 1. It is left to you to fill in the `q_greedify_policy` function, such that it modifies the policy at $s$ to be greedy with respect to the q-values at $s$, to complete the policy improvement algorithm."
      ]
    },
    {
      "cell_type": "code",
      "execution_count": null,
      "metadata": {
        "deletable": false,
        "editable": false,
        "nbgrader": {
          "checksum": "92679d89cf740af64cdc7d37193608cf",
          "grade": false,
          "grade_id": "cell-15ec36bbf7a6fdc6",
          "locked": true,
          "schema_version": 1,
          "solution": false
        },
        "id": "5N8cID_wWTtb"
      },
      "outputs": [],
      "source": [
        "def improve_policy(env, V, pi, gamma):\n",
        "    policy_stable = True\n",
        "    for s in env.S:\n",
        "        old = pi[s].copy()\n",
        "        q_greedify_policy(env, V, pi, s, gamma)\n",
        "        if not np.array_equal(pi[s], old):\n",
        "            policy_stable = False\n",
        "    return pi, policy_stable\n",
        "\n",
        "def policy_iteration(env, gamma, theta):\n",
        "    V = np.zeros(len(env.S))\n",
        "    pi = np.ones((len(env.S), len(env.A))) / len(env.A)\n",
        "    policy_stable = False\n",
        "    while not policy_stable:\n",
        "        V = evaluate_policy(env, V, pi, gamma, theta)\n",
        "        pi, policy_stable = improve_policy(env, V, pi, gamma)\n",
        "    return V, pi"
      ]
    },
    {
      "cell_type": "code",
      "execution_count": null,
      "metadata": {
        "deletable": false,
        "nbgrader": {
          "checksum": "54f69a62cbb1dfbccfb9fafd6c3cc77a",
          "grade": false,
          "grade_id": "cell-43cadb209544e857",
          "locked": false,
          "schema_version": 1,
          "solution": true
        },
        "id": "s-WldaIlWTtb"
      },
      "outputs": [],
      "source": [
        "# [Graded]\n",
        "def q_greedify_policy(env, V, pi, s, gamma):\n",
        "    \"\"\"\n",
        "    Mutate ``pi`` to be greedy with respect to the q-values induced by ``V``.\n",
        "    \"\"\"\n",
        "    ### START CODE HERE ###\n",
        "    # Initialize an empty list to store the Q-values for each action\n",
        "    G = [0] * len(env.A)\n",
        "    \n",
        "    # Loop over all possible actions in the current state\n",
        "    for action in env.A:\n",
        "        # Get the possible next states and their corresponding probabilities and rewards for the current action\n",
        "        transitions = env.transitions(s, action)\n",
        "        # Compute the Q-value for the current action as the sum of the expected rewards and the discounted value function of the next state\n",
        "        for s_, (r,p) in enumerate(transitions):\n",
        "            G[action] += p * (r + gamma * V[s_])\n",
        "    \n",
        "    # Select the action with the highest Q-value\n",
        "    best_a = np.argmax(G)\n",
        "    \n",
        "    # Mutate the policy to assign all probability to the best action and 0 to all other actions\n",
        "    for i,_ in enumerate(pi[s]):\n",
        "        if i == best_a:\n",
        "            pi[s][i] = 1\n",
        "        else:\n",
        "            pi[s][i] = 0  \n",
        "    ### END CODE HERE ###"
      ]
    },
    {
      "cell_type": "markdown",
      "metadata": {
        "deletable": false,
        "editable": false,
        "nbgrader": {
          "checksum": "b70073346d140503e1572043f2be5c7e",
          "grade": false,
          "grade_id": "cell-d82e51ee8122647c",
          "locked": true,
          "schema_version": 1,
          "solution": false
        },
        "id": "fAtUNvN9WTtb"
      },
      "source": [
        "When you are ready to test the policy iteration algorithm, run the cell below."
      ]
    },
    {
      "cell_type": "code",
      "execution_count": null,
      "metadata": {
        "deletable": false,
        "editable": false,
        "nbgrader": {
          "checksum": "10461117fa8880eab09f9bc0b41e37d5",
          "grade": false,
          "grade_id": "cell-6939985ef9ad58a3",
          "locked": true,
          "schema_version": 1,
          "solution": false
        },
        "id": "S0pIpRpLWTtc"
      },
      "outputs": [],
      "source": [
        "%reset_selective -f \"^num_spaces$|^num_prices$|^env$|^V$|^pi$|^gamma$|^theta$\"\n",
        "env = tools.ParkingWorld(num_spaces=10, num_prices=4)\n",
        "gamma = 0.9\n",
        "theta = 0.1\n",
        "V, pi = policy_iteration(env, gamma, theta)"
      ]
    },
    {
      "cell_type": "markdown",
      "metadata": {
        "deletable": false,
        "editable": false,
        "nbgrader": {
          "checksum": "dcd619f8fcc010b6933b2bba4ce9f9e7",
          "grade": false,
          "grade_id": "cell-acd7f476ed298570",
          "locked": true,
          "schema_version": 1,
          "solution": false
        },
        "id": "7A5RUuwLWTtc"
      },
      "source": [
        "You can use the ``plot`` function to visualize the final value function and policy."
      ]
    },
    {
      "cell_type": "code",
      "execution_count": null,
      "metadata": {
        "deletable": false,
        "editable": false,
        "nbgrader": {
          "checksum": "da17cf77a51f4fabd0ce3a93e2803af8",
          "grade": false,
          "grade_id": "cell-73a1da64ca84a151",
          "locked": true,
          "schema_version": 1,
          "solution": false
        },
        "id": "2ZChTy0XWTtc",
        "outputId": "2ca78c42-3bbe-4640-aa7f-558b3ffd6d69",
        "colab": {
          "base_uri": "https://localhost:8080/",
          "height": 381
        }
      },
      "outputs": [
        {
          "output_type": "display_data",
          "data": {
            "text/plain": [
              "<Figure size 900x360 with 3 Axes>"
            ],
            "image/png": "[encoded data removed]"
          },
          "metadata": {}
        }
      ],
      "source": [
        "tools.plot(V, pi)"
      ]
    },
    {
      "cell_type": "markdown",
      "metadata": {
        "deletable": false,
        "editable": false,
        "nbgrader": {
          "checksum": "0943d42dc7e60e40739b606700125da1",
          "grade": false,
          "grade_id": "cell-92139bf490757a44",
          "locked": true,
          "schema_version": 1,
          "solution": false
        },
        "id": "gO103Tv2WTtc"
      },
      "source": [
        "You can check the value function (rounded to one decimal place) and policy against the answer below:<br>\n",
        "State $\\quad\\quad$    Value $\\quad\\quad$ Action<br>\n",
        "0 $\\quad\\quad\\quad\\;$        81.6 $\\quad\\quad\\;$ 0<br>\n",
        "1 $\\quad\\quad\\quad\\;$        83.3 $\\quad\\quad\\;$ 0<br>\n",
        "2 $\\quad\\quad\\quad\\;$        85.0 $\\quad\\quad\\;$ 0<br>\n",
        "3 $\\quad\\quad\\quad\\;$        86.8 $\\quad\\quad\\;$ 0<br>\n",
        "4 $\\quad\\quad\\quad\\;$        88.5 $\\quad\\quad\\;$ 0<br>\n",
        "5 $\\quad\\quad\\quad\\;$        90.2 $\\quad\\quad\\;$ 0<br>\n",
        "6 $\\quad\\quad\\quad\\;$        91.7 $\\quad\\quad\\;$ 0<br>\n",
        "7 $\\quad\\quad\\quad\\;$        93.1 $\\quad\\quad\\;$ 0<br>\n",
        "8 $\\quad\\quad\\quad\\;$        94.3 $\\quad\\quad\\;$ 0<br>\n",
        "9 $\\quad\\quad\\quad\\;$        95.3 $\\quad\\quad\\;$ 3<br>\n",
        "10 $\\quad\\quad\\;\\;\\,\\,$      89.5 $\\quad\\quad\\;$ 3<br>"
      ]
    },
    {
      "cell_type": "code",
      "source": [
        "print(pi)"
      ],
      "metadata": {
        "colab": {
          "base_uri": "https://localhost:8080/"
        },
        "id": "6BdxxheSRlcq",
        "outputId": "c9b7d33f-75da-4c8f-ad49-ea19db24dca8"
      },
      "execution_count": null,
      "outputs": [
        {
          "output_type": "stream",
          "name": "stdout",
          "text": [
            "[[1. 0. 0. 0.]\n",
            " [1. 0. 0. 0.]\n",
            " [1. 0. 0. 0.]\n",
            " [1. 0. 0. 0.]\n",
            " [1. 0. 0. 0.]\n",
            " [1. 0. 0. 0.]\n",
            " [1. 0. 0. 0.]\n",
            " [1. 0. 0. 0.]\n",
            " [1. 0. 0. 0.]\n",
            " [0. 0. 0. 1.]\n",
            " [0. 0. 0. 1.]]\n"
          ]
        }
      ]
    },
    {
      "cell_type": "markdown",
      "metadata": {
        "deletable": false,
        "editable": false,
        "nbgrader": {
          "checksum": "6baffe56fd26c8c0fb1db1409801a308",
          "grade": false,
          "grade_id": "cell-c3aed944e874ac92",
          "locked": true,
          "schema_version": 1,
          "solution": false
        },
        "id": "SxlQa5IGWTtc"
      },
      "source": [
        "The cell below will check that your code passes the test case above. (Your code passed if the cell runs without error)"
      ]
    },
    {
      "cell_type": "code",
      "source": [
        "## Test Code ##\n",
        "V_correct = [81.6,83.3,85.0,86.8,88.5,90.2,91.7,93.1,94.3,95.3,89.5]\n",
        "pi_correct = [[1., 0., 0., 0.],\n",
        "              [1., 0., 0., 0.],\n",
        "              [1., 0., 0., 0.],\n",
        "              [1., 0., 0., 0.],\n",
        "              [1., 0., 0., 0.],\n",
        "              [1., 0., 0., 0.],\n",
        "              [1., 0., 0., 0.],\n",
        "              [1., 0., 0., 0.],\n",
        "              [1., 0., 0., 0.],\n",
        "              [0., 0., 0., 1.],\n",
        "              [0., 0., 0., 1.]]\n",
        "np.testing.assert_array_almost_equal(V, V_correct, 1)\n",
        "print(\"correct value function\")\n",
        "np.testing.assert_array_almost_equal(pi, pi_correct)\n",
        "print(\"Assertion correct. You can now move to the next section.\")"
      ],
      "metadata": {
        "colab": {
          "base_uri": "https://localhost:8080/"
        },
        "id": "A3NLmjW7QkNQ",
        "outputId": "5b35408f-3447-445a-fd7c-923f20bbb328"
      },
      "execution_count": null,
      "outputs": [
        {
          "output_type": "stream",
          "name": "stdout",
          "text": [
            "correct value function\n",
            "Assertion correct. You can now move to the next section.\n"
          ]
        }
      ]
    },
    {
      "cell_type": "markdown",
      "metadata": {
        "deletable": false,
        "editable": false,
        "nbgrader": {
          "checksum": "e59b175ca7605a8002c2040043f7b1af",
          "grade": false,
          "grade_id": "cell-e7628124eafb2fc2",
          "locked": true,
          "schema_version": 1,
          "solution": false
        },
        "id": "mdtfu-44WTtd"
      },
      "source": [
        "## Section 3: Value Iteration\n",
        "The city has also heard about value iteration and would like you to implement it. Value iteration works by iteratively applying the Bellman optimality equation for $v_{\\ast}$ to a working value function, as an update rule, as shown below.\n",
        "\n",
        "$$\\large v(s) \\leftarrow \\max_a \\sum_{s', r} p(s', r | s, a)[r + \\gamma v(s')]$$\n",
        "We have written an outline of the value iteration algorithm described in chapter 4.4 of the textbook. It is left to you to fill in the `bellman_optimality_update` function to complete the value iteration algorithm."
      ]
    },
    {
      "cell_type": "code",
      "execution_count": null,
      "metadata": {
        "deletable": false,
        "editable": false,
        "nbgrader": {
          "checksum": "3743399285b929801497af405783d06e",
          "grade": false,
          "grade_id": "cell-75baf962376afa7c",
          "locked": true,
          "schema_version": 1,
          "solution": false
        },
        "id": "gHqgQs1qWTtd"
      },
      "outputs": [],
      "source": [
        "def value_iteration(env, gamma, theta):\n",
        "    V = np.zeros(len(env.S))\n",
        "    while True:\n",
        "        delta = 0\n",
        "        for s in env.S:\n",
        "            v = V[s]\n",
        "            bellman_optimality_update(env, V, s, gamma)\n",
        "            delta = max(delta, abs(v - V[s]))\n",
        "        if delta < theta:\n",
        "            break\n",
        "    pi = np.ones((len(env.S), len(env.A))) / len(env.A)\n",
        "    for s in env.S:\n",
        "        q_greedify_policy(env, V, pi, s, gamma)\n",
        "    return V, pi"
      ]
    },
    {
      "cell_type": "code",
      "execution_count": null,
      "metadata": {
        "deletable": false,
        "nbgrader": {
          "checksum": "53654ee726c72456f461afd5a44aa5dc",
          "grade": false,
          "grade_id": "cell-f2c6a183cc0923fb",
          "locked": false,
          "schema_version": 1,
          "solution": true
        },
        "id": "L8wvg72GWTtd"
      },
      "outputs": [],
      "source": [
        "# [Graded]\n",
        "def bellman_optimality_update(env, V, s, gamma):\n",
        "    \"\"\"\n",
        "    Mutate ``V`` according to the Bellman optimality update equation.\n",
        "    \"\"\"\n",
        "    ### START CODE HERE ###\n",
        "    G = np.zeros(len(env.A))    # initialize the expected rewards for all actions\n",
        "    for a in env.A:             # iterate over all possible actions\n",
        "        transitions = env.transitions(s, a)   # get the transition probabilities and rewards for each action\n",
        "        for s_, (r, p) in enumerate(transitions):\n",
        "            G[a] += p*(r + gamma*V[s_])  # calculate the expected reward for each action using the transition probabilities and rewards\n",
        "    V[s] = np.max(G)    # update the value function by choosing the maximum expected reward\n",
        "    ### END CODE HERE ###"
      ]
    },
    {
      "cell_type": "markdown",
      "metadata": {
        "deletable": false,
        "editable": false,
        "nbgrader": {
          "checksum": "c5020582c7de3757fa3ece73983b61d9",
          "grade": false,
          "grade_id": "cell-d472d58e936b371e",
          "locked": true,
          "schema_version": 1,
          "solution": false
        },
        "id": "dn44yhdBWTtd"
      },
      "source": [
        "When you are ready to test the value iteration algorithm, run the cell below."
      ]
    },
    {
      "cell_type": "code",
      "execution_count": null,
      "metadata": {
        "deletable": false,
        "editable": false,
        "nbgrader": {
          "checksum": "7630c900339ae05da7d0a3f5736e884e",
          "grade": false,
          "grade_id": "cell-f609be2c58adc3e2",
          "locked": true,
          "schema_version": 1,
          "solution": false
        },
        "id": "L7M_2f8fWTtd"
      },
      "outputs": [],
      "source": [
        "%reset_selective -f \"^num_spaces$|^num_prices$|^env$|^V$|^pi$|^gamma$|^theta$\"\n",
        "env = tools.ParkingWorld(num_spaces=10, num_prices=4)\n",
        "gamma = 0.9\n",
        "theta = 0.1\n",
        "V, pi = value_iteration(env, gamma, theta)"
      ]
    },
    {
      "cell_type": "markdown",
      "metadata": {
        "deletable": false,
        "editable": false,
        "nbgrader": {
          "checksum": "8c88ac444253a80a377a7dce46e0c606",
          "grade": false,
          "grade_id": "cell-cba784b8d158758b",
          "locked": true,
          "schema_version": 1,
          "solution": false
        },
        "id": "cBwihLOyWTte"
      },
      "source": [
        "You can use the ``plot`` function to visualize the final value function and policy."
      ]
    },
    {
      "cell_type": "code",
      "execution_count": null,
      "metadata": {
        "deletable": false,
        "editable": false,
        "nbgrader": {
          "checksum": "d18a2592a3bac43de72e18cb54357ac9",
          "grade": false,
          "grade_id": "cell-086e26bfb519a017",
          "locked": true,
          "schema_version": 1,
          "solution": false
        },
        "id": "qfm9SAQFWTte",
        "outputId": "d0c8dcc7-4a84-4e24-a940-b298e7059adc",
        "colab": {
          "base_uri": "https://localhost:8080/",
          "height": 381
        }
      },
      "outputs": [
        {
          "output_type": "display_data",
          "data": {
            "text/plain": [
              "<Figure size 900x360 with 3 Axes>"
            ],
            "image/png": "[encoded data removed]"
          },
          "metadata": {}
        }
      ],
      "source": [
        "tools.plot(V, pi)"
      ]
    },
    {
      "cell_type": "markdown",
      "metadata": {
        "deletable": false,
        "editable": false,
        "nbgrader": {
          "checksum": "f7ee7bba538aa9300cd636c99403fd72",
          "grade": false,
          "grade_id": "cell-066f9bbdc057115b",
          "locked": true,
          "schema_version": 1,
          "solution": false
        },
        "id": "ATu_9fwPWTte"
      },
      "source": [
        "You can check your value function (rounded to one decimal place) and policy against the answer below:<br>\n",
        "State $\\quad\\quad$    Value $\\quad\\quad$ Action<br>\n",
        "0 $\\quad\\quad\\quad\\;$        81.6 $\\quad\\quad\\;$ 0<br>\n",
        "1 $\\quad\\quad\\quad\\;$        83.3 $\\quad\\quad\\;$ 0<br>\n",
        "2 $\\quad\\quad\\quad\\;$        85.0 $\\quad\\quad\\;$ 0<br>\n",
        "3 $\\quad\\quad\\quad\\;$        86.8 $\\quad\\quad\\;$ 0<br>\n",
        "4 $\\quad\\quad\\quad\\;$        88.5 $\\quad\\quad\\;$ 0<br>\n",
        "5 $\\quad\\quad\\quad\\;$        90.2 $\\quad\\quad\\;$ 0<br>\n",
        "6 $\\quad\\quad\\quad\\;$        91.7 $\\quad\\quad\\;$ 0<br>\n",
        "7 $\\quad\\quad\\quad\\;$        93.1 $\\quad\\quad\\;$ 0<br>\n",
        "8 $\\quad\\quad\\quad\\;$        94.3 $\\quad\\quad\\;$ 0<br>\n",
        "9 $\\quad\\quad\\quad\\;$        95.3 $\\quad\\quad\\;$ 3<br>\n",
        "10 $\\quad\\quad\\;\\;\\,\\,$      89.5 $\\quad\\quad\\;$ 3<br>"
      ]
    },
    {
      "cell_type": "markdown",
      "metadata": {
        "deletable": false,
        "editable": false,
        "nbgrader": {
          "checksum": "3b65819e3413c5a6d4b8d9859f69e5b7",
          "grade": false,
          "grade_id": "cell-7408f0fb3e078296",
          "locked": true,
          "schema_version": 1,
          "solution": false
        },
        "id": "xN4ogqvDWTte"
      },
      "source": [
        "The cell below will check that your code passes the test case above. (Your code passed if the cell runs without error) "
      ]
    },
    {
      "cell_type": "code",
      "source": [
        "## Test Code ##\n",
        "V_correct = [81.6,83.3,85.0,86.8,88.5,90.2,91.7,93.1,94.3,95.3,89.5]\n",
        "pi_correct = [[1., 0., 0., 0.],\n",
        "              [1., 0., 0., 0.],\n",
        "              [1., 0., 0., 0.],\n",
        "              [1., 0., 0., 0.],\n",
        "              [1., 0., 0., 0.],\n",
        "              [1., 0., 0., 0.],\n",
        "              [1., 0., 0., 0.],\n",
        "              [1., 0., 0., 0.],\n",
        "              [1., 0., 0., 0.],\n",
        "              [0., 0., 0., 1.],\n",
        "              [0., 0., 0., 1.]]\n",
        "np.testing.assert_array_almost_equal(V, V_correct, 1)\n",
        "print(\"correct value function\")\n",
        "np.testing.assert_array_almost_equal(pi, pi_correct)\n",
        "print(\"Assertion correct. You can now move to the next section.\")"
      ],
      "metadata": {
        "colab": {
          "base_uri": "https://localhost:8080/"
        },
        "id": "K9i-i2erS8o2",
        "outputId": "9bed9b5b-be68-47c0-db46-66f6971de2fe"
      },
      "execution_count": null,
      "outputs": [
        {
          "output_type": "stream",
          "name": "stdout",
          "text": [
            "correct value function\n",
            "Assertion correct. You can now move to the next section.\n"
          ]
        }
      ]
    },
    {
      "cell_type": "markdown",
      "metadata": {
        "deletable": false,
        "editable": false,
        "nbgrader": {
          "checksum": "167e35e35d0d33a6e9b26413281e4592",
          "grade": false,
          "grade_id": "cell-12976ff0ac11680d",
          "locked": true,
          "schema_version": 1,
          "solution": false
        },
        "id": "WPIatpgGWTte"
      },
      "source": [
        "In the value iteration algorithm above, a policy is not explicitly maintained until the value function has converged. Below, we have written an identically behaving value iteration algorithm that maintains an updated policy. Writing value iteration in this form makes its relationship to policy iteration more evident. Policy iteration alternates between doing complete greedifications and complete evaluations. On the other hand, value iteration alternates between doing local greedifications and local evaluations. "
      ]
    },
    {
      "cell_type": "code",
      "execution_count": null,
      "metadata": {
        "deletable": false,
        "editable": false,
        "nbgrader": {
          "checksum": "335160bd36744265e1ac43bd4305766b",
          "grade": false,
          "grade_id": "cell-e7940cfb801649be",
          "locked": true,
          "schema_version": 1,
          "solution": false
        },
        "id": "ekAOMFFRWTtf"
      },
      "outputs": [],
      "source": [
        "def value_iteration2(env, gamma, theta):\n",
        "    V = np.zeros(len(env.S))\n",
        "    pi = np.ones((len(env.S), len(env.A))) / len(env.A)\n",
        "    while True:\n",
        "        delta = 0\n",
        "        for s in env.S:\n",
        "            v = V[s]\n",
        "            q_greedify_policy(env, V, pi, s, gamma)\n",
        "            bellman_update(env, V, pi, s, gamma)\n",
        "            delta = max(delta, abs(v - V[s]))\n",
        "        if delta < theta:\n",
        "            break\n",
        "    return V, pi"
      ]
    },
    {
      "cell_type": "markdown",
      "metadata": {
        "deletable": false,
        "editable": false,
        "nbgrader": {
          "checksum": "795713d092ebf77dbe0f17c46d4286cd",
          "grade": false,
          "grade_id": "cell-de841fb4eb290d56",
          "locked": true,
          "schema_version": 1,
          "solution": false
        },
        "id": "3aPxdfXeWTtf"
      },
      "source": [
        "You can try the second value iteration algorithm by running the cell below."
      ]
    },
    {
      "cell_type": "code",
      "execution_count": null,
      "metadata": {
        "deletable": false,
        "editable": false,
        "nbgrader": {
          "checksum": "611305ea4f4675854bcaa93f15b6d186",
          "grade": false,
          "grade_id": "cell-2ace3a0ae8ee2e72",
          "locked": true,
          "schema_version": 1,
          "solution": false
        },
        "id": "IeZ5Ur6KWTtf",
        "outputId": "d2afa57a-e897-44a0-9e6b-c82e976be579",
        "colab": {
          "base_uri": "https://localhost:8080/",
          "height": 381
        }
      },
      "outputs": [
        {
          "output_type": "display_data",
          "data": {
            "text/plain": [
              "<Figure size 900x360 with 3 Axes>"
            ],
            "image/png": "[encoded data removed]"
          },
          "metadata": {}
        }
      ],
      "source": [
        "%reset_selective -f \"^num_spaces$|^num_prices$|^env$|^V$|^pi$|^gamma$|^theta$\"\n",
        "env = tools.ParkingWorld(num_spaces=10, num_prices=4)\n",
        "gamma = 0.9\n",
        "theta = 0.1\n",
        "V, pi = value_iteration2(env, gamma, theta)\n",
        "tools.plot(V, pi)"
      ]
    },
    {
      "cell_type": "markdown",
      "metadata": {
        "deletable": false,
        "editable": false,
        "nbgrader": {
          "checksum": "524f8f37d4321a149e999e2af4c10756",
          "grade": false,
          "grade_id": "cell-6025f917f706302b",
          "locked": true,
          "schema_version": 1,
          "solution": false
        },
        "id": "RXlCJJY4WTtf"
      },
      "source": [
        "## Wrapping Up\n",
        "Congratulations, you've completed assignment 2! In this assignment, we investigated policy evaluation and policy improvement, policy iteration and value iteration, and Bellman updates. Gridworld City thanks you for your service!"
      ]
    }
  ],
  "metadata": {
    "coursera": {
      "course_slug": "fundamentals-of-reinforcement-learning",
      "graded_item_id": "1NtiD",
      "launcher_item_id": "5z8bz"
    },
    "kernelspec": {
      "display_name": "Python 3",
      "language": "python",
      "name": "python3"
    },
    "language_info": {
      "codemirror_mode": {
        "name": "ipython",
        "version": 3
      },
      "file_extension": ".py",
      "mimetype": "text/x-python",
      "name": "python",
      "nbconvert_exporter": "python",
      "pygments_lexer": "ipython3",
      "version": "3.7.1"
    },
    "colab": {
      "provenance": [],
      "collapsed_sections": [
        "RXlCJJY4WTtf"
      ]
    }
  },
  "nbformat": 4,
  "nbformat_minor": 0
}